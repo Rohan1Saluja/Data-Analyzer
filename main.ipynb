{
 "cells": [
  {
   "cell_type": "code",
   "execution_count": null,
   "metadata": {},
   "outputs": [
    {
     "ename": "",
     "evalue": "",
     "output_type": "error",
     "traceback": [
      "\u001b[1;31mThe kernel failed to start as 'filefind' could not be imported from '/usr/local/lib/python3.10/site-packages/traitlets/utils/__init__.py'.\n",
      "\u001b[1;31mClick <a href='https://aka.ms/kernelFailuresModuleImportErrFromFile'>here</a> for more info."
     ]
    }
   ],
   "source": [
    "import pandas as pd\n",
    "import numpy as np\n",
    "import pyttsx3 as tts\n",
    "import speech_recognition as sr"
   ]
  },
  {
   "cell_type": "code",
   "execution_count": 2,
   "metadata": {},
   "outputs": [],
   "source": [
    "class recognize():\n",
    "    data = pd.read_excel('Book1.xlsx')\n",
    "    names = data['Name']\n",
    "    marks = data['Marks']\n",
    "    def get_name(self,name):\n",
    "        name.title()\n",
    "        for elem in self.names:\n",
    "            if name == elem:\n",
    "                print(\"inside\")\n",
    "                mark = (data.loc[data['Name'] == name]['Marks'])\n",
    "                return mark"
   ]
  },
  {
   "cell_type": "code",
   "execution_count": null,
   "metadata": {},
   "outputs": [],
   "source": [
    "# Speech Recognition\n",
    "readVoice = sr.Recognizer()\n",
    "\n",
    "def JustSpeak(command):\n",
    "    engine = tts.init()\n",
    "    engine.say(command)\n",
    "    engine.runAndWait()\n",
    "\n",
    "def SpeakText(command):\n",
    "     \n",
    "    # Initialize the engine\n",
    "    engine = tts.init()\n",
    "    engine.say(command)\n",
    "    engine.runAndWait()\n",
    "    counter=0\n",
    "    while(counter<1):   \n",
    "        counter+=1\n",
    "        # Exception handling to handle\n",
    "        # exceptions at the runtime\n",
    "        try:\n",
    "\n",
    "            with sr.Microphone() as source:\n",
    "                \n",
    "                # wait for a second to let the recognizer\n",
    "                # adjust the energy threshold based on\n",
    "                # the surrounding noise level\n",
    "                readVoice.adjust_for_ambient_noise(source, duration=0.2)\n",
    "                # use the microphone as source for input.\n",
    "                ask = \"Mention Name\"\n",
    "                engine.say(ask)\n",
    "                engine.runAndWait()\n",
    "                #listens for the user's input\n",
    "                audio = readVoice.listen(source)\n",
    "                \n",
    "                # Using google to recognize audio\n",
    "                MyText = readVoice.recognize_google(audio)\n",
    "                MyText = MyText.lower()\n",
    "                print(MyText)\n",
    "\n",
    "                if MyText == \"exit\":\n",
    "                    print(\"Thank You\")\n",
    "                    JustSpeak(\"Thank You for Using this Service\")\n",
    "                    break\n",
    "    \n",
    "                confirm = (\"Did you say \" + MyText)\n",
    "                JustSpeak(confirm)\n",
    "                print(\"Bol ab Yes/No\")\n",
    "                decide = readVoice.listen(source)\n",
    "                check = readVoice.recognize_google(decide)\n",
    "                check = check.lower()\n",
    "                print(check)\n",
    "                if check == \"yes\":\n",
    "                    obj = recognize()\n",
    "                    marks = obj.get_name(MyText)\n",
    "\n",
    "        except sr.RequestError as e:\n",
    "            print(\"Could not request results; {0}\".format(e))\n",
    "            \n",
    "        except sr.UnknownValueError:\n",
    "            print(\"unknown error occurred\")\n",
    "\n",
    "\n",
    "bolBhai = \"Hey,How Are you?\"\n",
    "SpeakText(bolBhai)"
   ]
  }
 ],
 "metadata": {
  "kernelspec": {
   "display_name": "Python 3",
   "language": "python",
   "name": "python3"
  },
  "language_info": {
   "codemirror_mode": {
    "name": "ipython",
    "version": 3
   },
   "file_extension": ".py",
   "mimetype": "text/x-python",
   "name": "python",
   "nbconvert_exporter": "python",
   "pygments_lexer": "ipython3",
   "version": "3.10.8"
  },
  "orig_nbformat": 4
 },
 "nbformat": 4,
 "nbformat_minor": 2
}
